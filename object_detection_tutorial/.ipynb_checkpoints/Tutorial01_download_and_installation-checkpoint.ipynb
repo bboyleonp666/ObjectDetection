{
 "cells": [
  {
   "cell_type": "code",
   "execution_count": null,
   "metadata": {},
   "outputs": [],
   "source": [
    "'''\n",
    "Date: 2019/12/29\n",
    "OS: Windows 10\n",
    "\n",
    "This tutorial is based on Anaconda and Tensorflow-gpu v1.13.1.\n",
    "I will introduce how to setup the Tensorflow Object Detection API.\n",
    "\n",
    "I strongly recommend everyone who read this tutorial use Tensorflow-gpu v1.13.1 for object detection API.\n",
    "Since I have faced many problems using Tensorflow-gpu v2.0.0, v1.9, v1.14.\n",
    "\n",
    "I guess it's due to Tensorflow Object Detection team is still working hard on improving this API,\n",
    "so they modified a lot and also the other module like numpy or pandas are progressing,\n",
    "which will lead to difficuty while play around this API\n",
    "\n",
    "'''"
   ]
  },
  {
   "cell_type": "markdown",
   "metadata": {},
   "source": [
    "# Download Anaconda\n",
    "<pre><font size=4>\n",
    "For downloading Anaconda:\n",
    "\n",
    "    <a ref=\"https://www.anaconda.com/\">&#9658; Anaconda Home Page</a>\n",
    "<font size=3>\n",
    "<b>Note:</b> The GUI version will be easier to install unless you are familiar to command line one\n",
    "      Python v3.x are recommended if you are not a Python v2.x user for long\n",
    "</font>\n",
    "</font></pre>\n"
   ]
  },
  {
   "cell_type": "markdown",
   "metadata": {},
   "source": [
    "# Download and install CUDA and cuDNN\n",
    "<pre><font size=4>\n",
    "<font color=\"gray\"><i>If you want to use CPU ver of Tensorflow, you may skill this part</i></font>\n",
    "<font color=\"gray\"><i>However GPU ver is recommended due to object detection takes lots of time</i></font>\n",
    "\n",
    "Check if your GPU support CUDA <a ref=\"https://developer.nvidia.com/cuda-gpus\">here</a>\n",
    "For downloading CUDA and cuDNN, which are for Tensorflow GPU ver:\n",
    "\n",
    "    <a ref = \"https://developer.nvidia.com/cuda-toolkit-archive\">&#9658; CUDA Legacy Releases</a>\n",
    "    <a ref = \"https://developer.nvidia.com/cudnn\">&#9658; cuDNN Home Page</a>\n",
    "<font size=3>\n",
    "<b>Note:</b> Tensorflow-gpu v1.13.1 needs CUDA v10.0 and following cuDNN v7.6.5\n",
    "      For other CUDA ver., check <a ref=\"https://www.tensorflow.org/install/source_windows\">here</a>\n",
    "      You have to sign up and answer some simple questions for downloading cuDNN\n",
    "</font>\n",
    "If you successfully install CUDA, then open the cuDNN zip file, extract the files and paste each to them into the directories along with the directories inside zip file.\n",
    "\n",
    "\n",
    "Now check if the CUDA installation setup the enviroment variables for you\n",
    "<font color=\"gray\"><i>\n",
    "    Right click <b>Computer(本機)</b> on desktop\n",
    "      -> <b>Properties(內容)</b>\n",
    "      -> <b>Advanced system setting(進階系統設定)</b>\n",
    "      -> <b>Advanced(進階)</b>\n",
    "      -> <b>environment variable(環境變數)</b>\n",
    "</i></font>\n",
    "Under system variable, check if \n",
    "<font color=\"gray\"><i>\n",
    "<b>    variable        value</b>\n",
    "    ---------       ------\n",
    "    CUDA_PATH       C:\\Program Files\\NVIDIA GPU Computing Toolkit\\CUDA\\v10.0\n",
    "    CUDA_BIN_PATH   C:\\Program Files\\NVIDIA GPU Computing Toolkit\\CUDA\\v10.0\\bin\n",
    "</i></font>\n",
    "exist, if not add them manually.\n",
    "</font></pre>"
   ]
  },
  {
   "cell_type": "markdown",
   "metadata": {},
   "source": [
    "# Set up virtual enviroment\n",
    "<pre><font size=4>\n",
    "Open Anaconda Prompt and create a new virtual enviroment by input\n",
    "<font size=3>\n",
    "    <span style='background:#E8E8E8'>conda -n <b>&#60;name&#62;</b> python=3.6 pip -y</span>\n",
    "    <span style='background:#E8E8E8'>conda activate <b>&#60;name&#62;</b></span>\n",
    "    <span style='background:#E8E8E8'>pip install --ignore-installed --upgrade tensorflow-gpu==1.13.1</span>\n",
    "    \n",
    "    <span style='background:#E8E8E8'></span>\n",
    "    <span style='background:#E8E8E8'>pip install cython</span>\n",
    "    <span style='background:#E8E8E8'>pip install contextlib2</span>\n",
    "    <span style='background:#E8E8E8'>pip install pillow</span>\n",
    "    <span style='background:#E8E8E8'>pip install lxml</span>\n",
    "    <span style='background:#E8E8E8'>pip install matplotlib</span>\n",
    "    <span style='background:#E8E8E8'>pip install opencv-python</span>\n",
    "</font>\n",
    "</font></pre>\n",
    "| <font size=4>Module | <font size=4>Version |\n",
    "| :--- | --- |\n",
    "| <font size=4>cython</font> | <font size=4>0.29.14</font> |\n",
    "| <font size=4>context</font> | <font size=4>0.6.0.post1</font> |\n",
    "| <font size=4>pillow</font> | <font size=4>6.2.1</font> |\n",
    "| <font size=4>lxml</font> | <font size=4>4.4.2</font> |\n",
    "| <font size=4>matplotlib</font> | <font size=4>3.1.2</font> |\n",
    "| <font size=4>opencv-python</font> | <font size=4>4.1.2.30</font> |\n",
    "    \n",
    "<pre>\n",
    "<b>Note:</b> List the version in case modules in other version will fail\n",
    "</pre>"
   ]
  },
  {
   "cell_type": "markdown",
   "metadata": {},
   "source": [
    "# Clone the object detection API repository\n",
    "<pre><font size=4>\n",
    "Create a folder for object detection API --  <font color=\"gray\"><i>..\\..\\Tensorflow</i></font>\n",
    "\n",
    "For example:  <font color=\"gray\"><i>C:\\Users\\user\\Tensorflow</i></font>\n",
    "\n",
    "Head to the directory and clone the repository from the offical github page by git or download the zip\n",
    "\n",
    "    <a ref=\"https://www.anaconda.com/\">&#9658; models</a>\n",
    "\n",
    "<b>Note:</b> If you download the zip file, it will be named \\<b>models-master</b>\n",
    "      To avoid problems that may happen in the future, change the name to \\<b>models</b>\n",
    "</font></pre>"
   ]
  },
  {
   "cell_type": "code",
   "execution_count": null,
   "metadata": {},
   "outputs": [],
   "source": []
  }
 ],
 "metadata": {
  "kernelspec": {
   "display_name": "Python 3",
   "language": "python",
   "name": "python3"
  },
  "language_info": {
   "codemirror_mode": {
    "name": "ipython",
    "version": 3
   },
   "file_extension": ".py",
   "mimetype": "text/x-python",
   "name": "python",
   "nbconvert_exporter": "python",
   "pygments_lexer": "ipython3",
   "version": "3.6.7"
  }
 },
 "nbformat": 4,
 "nbformat_minor": 2
}
