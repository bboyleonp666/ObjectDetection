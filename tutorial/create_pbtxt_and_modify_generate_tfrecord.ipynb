{
 "cells": [
  {
   "cell_type": "code",
   "execution_count": 1,
   "metadata": {},
   "outputs": [],
   "source": [
    "import os\n",
    "import pandas as pd\n",
    "\n",
    "from tempfile import mkstemp\n",
    "from shutil import move\n",
    "import re"
   ]
  },
  {
   "cell_type": "code",
   "execution_count": 2,
   "metadata": {},
   "outputs": [],
   "source": [
    "def create_label_map(csv_path, obj_path):\n",
    "    csv = pd.read_csv(csv_path)\n",
    "    with open(os.path.join(obj_dir, \"training\\\\labelmap.pbtxt\"), \"w\") as labelmap:\n",
    "        for i, label in enumerate(set(csv[\"class\"])):\n",
    "            line1 = \"item {\\n\"\n",
    "            line2 = f\"    id: {str(i+1)}\\n\"\n",
    "            line3 = f\"    name: '{label}'\\n\"\n",
    "            line4 = \"}\\n\\n\"\n",
    "            print(line1 + line2 + line3 + line4, file = labelmap)"
   ]
  },
  {
   "cell_type": "code",
   "execution_count": 3,
   "metadata": {
    "scrolled": false
   },
   "outputs": [],
   "source": [
    "def replace_generate_tfrecord(file_path, csv_path):\n",
    "    csv = pd.read_csv(csv_path)\n",
    "    # Create new lines for replacement\n",
    "    new_lines = []\n",
    "    print(\"New lines:\")\n",
    "    for i, label in enumerate(set(csv[\"class\"])):\n",
    "        line1 = \"    if row_label == '{}':\\n\".format(label)\n",
    "        line2 = \"        return {}\".format(i+1)\n",
    "        print(line1 + line2)\n",
    "        new_lines.append(line1 + line2)\n",
    "\n",
    "    # read old file that we are going to modify and save it in lines\n",
    "    with open(file_path, \"r\") as old_file:\n",
    "        lines = old_file.readlines()\n",
    "    os.remove(file_path) # After copy the content, remove it\n",
    "\n",
    "    # write new .py file with the same name\n",
    "    with open(file_path, \"w\") as new_file:\n",
    "        i = 0\n",
    "        start_replace = 0 # set judgement for print new_lines or not\n",
    "        end_loop = len(lines) - 1\n",
    "        while i <= end_loop:\n",
    "            line = lines[i].strip(\"\\n\")\n",
    "            if \"if row_label ==\" not in line:\n",
    "                i += 1\n",
    "                print(line, file=new_file)\n",
    "            else:\n",
    "                i += 2\n",
    "                if start_replace == 0:\n",
    "                    for new_line in new_lines:\n",
    "                        print(new_line, file=new_file)\n",
    "                    start_replace = 1"
   ]
  },
  {
   "cell_type": "code",
   "execution_count": 4,
   "metadata": {},
   "outputs": [],
   "source": [
    "# run create_label_map function\n",
    "obj_dir = os.path.dirname(os.getcwd())\n",
    "train_csv_path = os.path.join(os.getcwd(), \"train_labels.csv\")\n",
    "create_label_map(train_csv_path, obj_dir)"
   ]
  },
  {
   "cell_type": "code",
   "execution_count": 5,
   "metadata": {},
   "outputs": [
    {
     "name": "stdout",
     "output_type": "stream",
     "text": [
      "New lines:\n",
      "    if row_label == 'aquarium':\n",
      "        return 1\n",
      "    if row_label == 'toilet':\n",
      "        return 2\n",
      "    if row_label == 'tub':\n",
      "        return 3\n",
      "    if row_label == 'bowl':\n",
      "        return 4\n",
      "    if row_label == 'bucket':\n",
      "        return 5\n",
      "    if row_label == 'plastic_bag':\n",
      "        return 6\n",
      "    if row_label == 'water_tower':\n",
      "        return 7\n",
      "    if row_label == 'plate':\n",
      "        return 8\n",
      "    if row_label == 'tire':\n",
      "        return 9\n",
      "    if row_label == 'styrofoam':\n",
      "        return 10\n",
      "    if row_label == 'washing_machine':\n",
      "        return 11\n",
      "    if row_label == 'box':\n",
      "        return 12\n",
      "    if row_label == 'bottle':\n",
      "        return 13\n"
     ]
    }
   ],
   "source": [
    "# run replace_generate_tfrecord\n",
    "generate_tfrecord_path = os.path.join(obj_dir, \"generate_tfrecord.py\") # file path of generate_tfrecord.py\n",
    "replace_generate_tfrecord(generate_tfrecord_path, train_csv_path)"
   ]
  }
 ],
 "metadata": {
  "kernelspec": {
   "display_name": "Python 3",
   "language": "python",
   "name": "python3"
  },
  "language_info": {
   "codemirror_mode": {
    "name": "ipython",
    "version": 3
   },
   "file_extension": ".py",
   "mimetype": "text/x-python",
   "name": "python",
   "nbconvert_exporter": "python",
   "pygments_lexer": "ipython3",
   "version": "3.6.7"
  }
 },
 "nbformat": 4,
 "nbformat_minor": 2
}
