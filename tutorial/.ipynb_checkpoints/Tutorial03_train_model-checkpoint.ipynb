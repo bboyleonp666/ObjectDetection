{
 "cells": [
  {
   "cell_type": "markdown",
   "metadata": {},
   "source": [
    "# Train your model\n",
    "<pre><font size=4>\n",
    "After setting lots of annoying things, we finally can train the model\n",
    "\n",
    "Head to <b>&#60;tensorflow&#62;\\models\\research\\object_detecion</b> and type\n",
    "<font size=3>\n",
    "    <span style='background:#E8E8E8'>python train.py --logtostderr --train_dir=training/ --pipeline_config_path=training/faster_rcnn_inception_v2_coco.config\n",
    "</span>\n",
    "<b>Note:</b> The command above should be adjust according to your model and paths\n",
    "</font>\n",
    "\n",
    "When you see something like the picture below, Congratulations! You made it!!\n",
    "</font></pre>\n",
    "<img src=\"train_model.png\" alt=\"Train model successfully\" style=\"width: 800px;\">\n",
    "<pre><font size=4>\n",
    "\n",
    "Sometimes you might think the training takes too long and you want to early stop it\n",
    "\n",
    "Since this API will save the model for you every 5 minutes, you may stop it anytime you want\n",
    "\n",
    "Just by <font size=3><span style='background:#E8E8E8'>Ctrl</span></font> + <font size=3><span style='background:#E8E8E8'>C</span></font>\n",
    "</font></pre>"
   ]
  },
  {
   "cell_type": "markdown",
   "metadata": {},
   "source": [
    "# Monitor with Tensorboard\n",
    "<pre><font size=4>\n",
    "You can monitor the training loss by Tensorboard and decide if you want to stop training\n",
    "\n",
    "The approach to open it is simple\n",
    "<font color=\"gray\"><i>\n",
    "    Open a new <b>Prompt</b>\n",
    "      -> Activate the same virtual environment you build for this API\n",
    "      -> <span style='background:#E8E8E8'>cd</span> into \\object_detection\n",
    "      -> <span style='background:#E8E8E8'>tensorboard --logdir=training</span>\n",
    "</i></font>\n",
    "And you will find a link show in <b>Prompt</b>\n",
    "</font></pre>\n",
    "<img src=\"tensorboard.png\" alt=\"Tensorboard\" style=\"width: 800px;\">\n",
    "<pre><font size=4>\n",
    "Open a web browser and paste the link then you can enjoy using Tensorboard\n",
    "</font></pre>"
   ]
  }
 ],
 "metadata": {
  "kernelspec": {
   "display_name": "Python 3",
   "language": "python",
   "name": "python3"
  },
  "language_info": {
   "codemirror_mode": {
    "name": "ipython",
    "version": 3
   },
   "file_extension": ".py",
   "mimetype": "text/x-python",
   "name": "python",
   "nbconvert_exporter": "python",
   "pygments_lexer": "ipython3",
   "version": "3.6.7"
  }
 },
 "nbformat": 4,
 "nbformat_minor": 2
}
