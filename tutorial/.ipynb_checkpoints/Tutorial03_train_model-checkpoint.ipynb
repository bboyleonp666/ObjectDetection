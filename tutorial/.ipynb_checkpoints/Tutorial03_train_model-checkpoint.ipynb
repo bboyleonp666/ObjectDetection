{
 "cells": [
  {
   "cell_type": "code",
   "execution_count": null,
   "metadata": {},
   "outputs": [],
   "source": [
    "'''\n",
    "INFORMATION\n",
    "\n",
    "Date: 2019/12/29\n",
    "OS: Windows 10\n",
    "\n",
    "Tensorflow-gpu: v1.13.1\n",
    "cython: 0.29.14\n",
    "context: 0.6.0.post1\n",
    "pillow: 6.2.1\n",
    "lxml: 4.4.2\n",
    "matplotlib: 3.1.2\n",
    "opencv-python: 4.1.2.30\n",
    "jupyter: 1.0.0\n",
    "'''"
   ]
  },
  {
   "cell_type": "markdown",
   "metadata": {},
   "source": [
    "# Train your model\n",
    "<pre><font size=4>\n",
    "After setting lots of annoying things, we finally can train the model\n",
    "Head to <b>&#60;tensorflow&#62;\\models\\research\\object_detecion</b> and type\n",
    "<font size=3>\n",
    "    <span style='background:#E8E8E8'>python train.py --logtostderr --train_dir=training/ --pipeline_config_path=training/faster_rcnn_inception_v2_coco.config\n",
    "</span>\n",
    "<b>Note:</b> The command above should be adjust according to your model and paths\n",
    "</font>\n",
    "\n",
    "When you see something like the picture below, Congratulations! You made it!!\n",
    "</font></pre>\n",
    "<img src=\"train_model.png\" alt=\"Train model successfully\" style=\"width: 800px;\">\n",
    "<pre><font size=4>\n",
    "Sometimes you might think the training takes too long and you want to early stop it\n",
    "Since this API saves the model for you every 5 minutes, you can stop it any time you want\n",
    "Just by <font size=3><span style='background:#E8E8E8'>Ctrl</span></font> + <font size=3><span style='background:#E8E8E8'>C</span></font>\n",
    "</font></pre>"
   ]
  },
  {
   "cell_type": "markdown",
   "metadata": {},
   "source": [
    "# Monitor with Tensorboard\n",
    "<pre><font size=4>\n",
    "You can monitor the training loss by Tensorboard and decide if you want to stop training\n",
    "The approach to open it is simple\n",
    "<font color=\"gray\"><i>\n",
    "    Open a new <b>Prompt</b>\n",
    "      -> Activate the same virtual environment you build for this API\n",
    "      -> <span style='background:#E8E8E8'>cd</span> into \\object_detection\n",
    "      -> <span style='background:#E8E8E8'>tensorboard --logdir=training</span>\n",
    "</i></font>\n",
    "And you will find a link show in <b>Prompt</b>\n",
    "</font></pre>\n",
    "<img src=\"tensorboard.png\" alt=\"Tensorboard\" style=\"width: 800px;\">\n",
    "<pre><font size=4>\n",
    "Open a web browser and paste the link then you can enjoy using Tensorboard\n",
    "</font></pre>"
   ]
  },
  {
   "cell_type": "markdown",
   "metadata": {},
   "source": [
    "# Export frozen inference graph\n",
    "<pre><font size=4>\n",
    "Before head to the predition, you still got one more step after training process\n",
    "\n",
    "<i><b>First</b></i>\n",
    " - Check the latest checkpoint of your training in <b>&#60;tensorflow&#62;\\models\\research\\object_detecion\\training</b>\n",
    " - The files contain <b>model.ckpt-XXXX</b> is the checkpoints of your training\n",
    " - The largest XXXX is the lateset checkpoint file\n",
    " \n",
    "<i><b>Second</b></i>\n",
    " - Back to <b>&#60;tensorflow&#62;\\models\\research\\object_detecion</b> and type\n",
    "<font size=3>\n",
    "     <span style='background:#E8E8E8'>python export_inference_graph.py --input_type image_tensor --pipeline_config_path training/<b>&#60;Your .config file&#62;</b> --trained_checkpoint_prefix training/<b>model.ckpt-XXXX</b> --output_directory inference_graph</span>\n",
    "</font>\n",
    " - This will export the frozen_inference_graph.pb file into <b>\\object_detection\\inference_graph</b> folder\n",
    " - Which is the file containing information of our training\n",
    "</font></pre>"
   ]
  }
 ],
 "metadata": {
  "kernelspec": {
   "display_name": "Python 3",
   "language": "python",
   "name": "python3"
  },
  "language_info": {
   "codemirror_mode": {
    "name": "ipython",
    "version": 3
   },
   "file_extension": ".py",
   "mimetype": "text/x-python",
   "name": "python",
   "nbconvert_exporter": "python",
   "pygments_lexer": "ipython3",
   "version": "3.6.9"
  }
 },
 "nbformat": 4,
 "nbformat_minor": 2
}
