{
 "cells": [
  {
   "cell_type": "code",
   "execution_count": null,
   "metadata": {},
   "outputs": [],
   "source": [
    "'''\n",
    "INFORMATION\n",
    "\n",
    "Date: 2019/12/29\n",
    "OS: Windows 10\n",
    "\n",
    "Tensorflow-gpu: v1.13.1\n",
    "cython: 0.29.14\n",
    "context: 0.6.0.post1\n",
    "pillow: 6.2.1\n",
    "lxml: 4.4.2\n",
    "matplotlib: 3.1.2\n",
    "opencv-python: 4.1.2.30\n",
    "jupyter: 1.0.0\n",
    "'''"
   ]
  },
  {
   "cell_type": "markdown",
   "metadata": {},
   "source": [
    "# Set environment variable for object detection\n",
    "<pre><font size=4>\n",
    "For setting up the path so that the OS can this API, we set a PYTHONPATH for it\n",
    "<font size=3>\n",
    "    <span style='background:#E8E8E8'>set PYTHONPATH=<b>&#60;tensorflow&#62;</b>\\models;<b>&#60;tensorflow&#62;</b>\\models\\research;<b>&#60;tensorflow&#62;</b>\\models\\research\\slim</span>\n",
    "\n",
    "<b>Note:</b> The <b>&#60;tensorflow&#62;</b> is the directory where <i>\\models</i> is located\n",
    "      There's \";\" between each path, do not forget them\n",
    "      This will create a temporary <b>environment variable</b>, so you have to run this <font color=\"red\">EACH TIME</font> opening <b>Prompt</b>\n",
    "      You may head to <b>environment variable</b> for creating a permanent one\n",
    "      By <span style='background:#E8E8E8'>echo %PYTHONPATH%</span>, you can see if you set it right\n",
    "</font>\n",
    "</font></pre>"
   ]
  },
  {
   "cell_type": "markdown",
   "metadata": {},
   "source": [
    "# Setup object detection API\n",
    "<pre><font size=4>\n",
    "Head to <i><b>&#60;tensorflow&#62;</b>\\models\\research</i> in virtual environment you've created by <span style='background:#E8E8E8'>cd</span> command\n",
    "\n",
    "Paste all the command below and run it\n",
    "<table align=\"left\"><tr><td><font size = 3>\n",
    "protoc --python_out=. .\\object_detection\\protos\\anchor_generator.proto .\\object_detection\\protos\\argmax_matcher.proto .\\object_detection\\protos\\bipartite_matcher.proto .\\object_detection\\protos\\box_coder.proto .\\object_detection\\protos\\box_predictor.proto .\\object_detection\\protos\\eval.proto .\\object_detection\\protos\\faster_rcnn.proto .\\object_detection\\protos\\faster_rcnn_box_coder.proto .\\object_detection\\protos\\grid_anchor_generator.proto .\\object_detection\\protos\\hyperparams.proto .\\object_detection\\protos\\image_resizer.proto .\\object_detection\\protos\\input_reader.proto .\\object_detection\\protos\\losses.proto .\\object_detection\\protos\\matcher.proto .\\object_detection\\protos\\mean_stddev_box_coder.proto .\\object_detection\\protos\\model.proto .\\object_detection\\protos\\optimizer.proto .\\object_detection\\protos\\pipeline.proto .\\object_detection\\protos\\post_processing.proto .\\object_detection\\protos\\preprocessor.proto .\\object_detection\\protos\\region_similarity_calculator.proto .\\object_detection\\protos\\square_box_coder.proto .\\object_detection\\protos\\ssd.proto .\\object_detection\\protos\\ssd_anchor_generator.proto .\\object_detection\\protos\\string_int_label_map.proto .\\object_detection\\protos\\train.proto .\\object_detection\\protos\\keypoint_box_coder.proto .\\object_detection\\protos\\multiscale_anchor_generator.proto .\\object_detection\\protos\\graph_rewriter.proto .\\object_detection\\protos\\calibration.proto .\\object_detection\\protos\\flexible_grid_anchor_generator.proto\n",
    "</font></td></tr></table>\n",
    "</font></pre>\n",
    "<pre><font size=4>\n",
    "And build this API by typing\n",
    "\n",
    "    <font size=3><span style='background:#E8E8E8'>python setup.py build</span></font>\n",
    "    <font size=3><span style='background:#E8E8E8'>python setup.py install</span></font>\n",
    "<font size=3>\n",
    "<b>Note:</b> Your might have to run lines above each time you change something of the object detection module\n",
    "</font>\n",
    "In the API, you need to separate training and validation set by yourself\n",
    "So I wrote the \n",
    "</font></pre>"
   ]
  },
  {
   "cell_type": "code",
   "execution_count": null,
   "metadata": {},
   "outputs": [],
   "source": []
  }
 ],
 "metadata": {
  "kernelspec": {
   "display_name": "Python 3",
   "language": "python",
   "name": "python3"
  },
  "language_info": {
   "codemirror_mode": {
    "name": "ipython",
    "version": 3
   },
   "file_extension": ".py",
   "mimetype": "text/x-python",
   "name": "python",
   "nbconvert_exporter": "python",
   "pygments_lexer": "ipython3",
   "version": "3.6.9"
  }
 },
 "nbformat": 4,
 "nbformat_minor": 2
}
