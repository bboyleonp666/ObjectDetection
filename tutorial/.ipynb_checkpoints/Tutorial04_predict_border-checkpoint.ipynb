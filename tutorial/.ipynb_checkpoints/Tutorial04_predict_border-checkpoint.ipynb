{
 "cells": [
  {
   "cell_type": "code",
   "execution_count": null,
   "metadata": {},
   "outputs": [],
   "source": [
    "'''\n",
    "Date: 2019/12/30\n",
    "OS: Window 10\n",
    "\n",
    "Tensorflow-gpu: v1.13.1\n",
    "'''"
   ]
  },
  {
   "cell_type": "code",
   "execution_count": 1,
   "metadata": {},
   "outputs": [
    {
     "name": "stderr",
     "output_type": "stream",
     "text": [
      "c:\\users\\leonp\\anaconda3\\envs\\tfv1131\\lib\\site-packages\\tensorflow\\python\\framework\\dtypes.py:526: FutureWarning: Passing (type, 1) or '1type' as a synonym of type is deprecated; in a future version of numpy, it will be understood as (type, (1,)) / '(1,)type'.\n",
      "  _np_qint8 = np.dtype([(\"qint8\", np.int8, 1)])\n",
      "c:\\users\\leonp\\anaconda3\\envs\\tfv1131\\lib\\site-packages\\tensorflow\\python\\framework\\dtypes.py:527: FutureWarning: Passing (type, 1) or '1type' as a synonym of type is deprecated; in a future version of numpy, it will be understood as (type, (1,)) / '(1,)type'.\n",
      "  _np_quint8 = np.dtype([(\"quint8\", np.uint8, 1)])\n",
      "c:\\users\\leonp\\anaconda3\\envs\\tfv1131\\lib\\site-packages\\tensorflow\\python\\framework\\dtypes.py:528: FutureWarning: Passing (type, 1) or '1type' as a synonym of type is deprecated; in a future version of numpy, it will be understood as (type, (1,)) / '(1,)type'.\n",
      "  _np_qint16 = np.dtype([(\"qint16\", np.int16, 1)])\n",
      "c:\\users\\leonp\\anaconda3\\envs\\tfv1131\\lib\\site-packages\\tensorflow\\python\\framework\\dtypes.py:529: FutureWarning: Passing (type, 1) or '1type' as a synonym of type is deprecated; in a future version of numpy, it will be understood as (type, (1,)) / '(1,)type'.\n",
      "  _np_quint16 = np.dtype([(\"quint16\", np.uint16, 1)])\n",
      "c:\\users\\leonp\\anaconda3\\envs\\tfv1131\\lib\\site-packages\\tensorflow\\python\\framework\\dtypes.py:530: FutureWarning: Passing (type, 1) or '1type' as a synonym of type is deprecated; in a future version of numpy, it will be understood as (type, (1,)) / '(1,)type'.\n",
      "  _np_qint32 = np.dtype([(\"qint32\", np.int32, 1)])\n",
      "c:\\users\\leonp\\anaconda3\\envs\\tfv1131\\lib\\site-packages\\tensorflow\\python\\framework\\dtypes.py:535: FutureWarning: Passing (type, 1) or '1type' as a synonym of type is deprecated; in a future version of numpy, it will be understood as (type, (1,)) / '(1,)type'.\n",
      "  np_resource = np.dtype([(\"resource\", np.ubyte, 1)])\n"
     ]
    }
   ],
   "source": [
    "# Import packages\n",
    "import os\n",
    "import glob\n",
    "import cv2\n",
    "import numpy as np\n",
    "import tensorflow as tf\n",
    "import sys\n",
    "import matplotlib.pyplot as plt\n",
    "\n",
    "# This is needed since the notebook is stored in the object_detection folder.\n",
    "sys.path.append(\"D:/課程/北大課程/人工神經網路與深度學習/Project04/models/research\")\n",
    "\n",
    "# Import utilites\n",
    "from object_detection.utils import label_map_util\n",
    "from object_detection.utils import visualization_utils as vis_util\n",
    "\n",
    "class color:\n",
    "    PURPLE = '\\033[95m'\n",
    "    CYAN = '\\033[96m'\n",
    "    DARKCYAN = '\\033[36m'\n",
    "    BLUE = '\\033[94m'\n",
    "    GREEN = '\\033[92m'\n",
    "    YELLOW = '\\033[93m'\n",
    "    RED = '\\033[91m'\n",
    "    BOLD = '\\033[1m'\n",
    "    UNDERLINE = '\\033[4m'\n",
    "    END = '\\033[0m'"
   ]
  },
  {
   "cell_type": "code",
   "execution_count": 2,
   "metadata": {},
   "outputs": [
    {
     "name": "stdout",
     "output_type": "stream",
     "text": [
      "Cwd: D:\\課程\\北大課程\\人工神經網路與深度學習\\Project04\\models\\research\\object_detection\n",
      "\n",
      "Checkpoint: \n",
      "   D:\\課程\\北大課程\\人工神經網路與深度學習\\Project04\\models\\research\\object_detection\\inference_graph\\frozen_inference_graph.pb\n",
      "\n",
      "Label map: D:\\課程\\北大課程\\人工神經網路與深度學習\\Project04\\models\\research\\object_detection\\training\\labelmap.pbtxt\n",
      "\n",
      "Image dir: D:\\test_cdc\\test_images\n"
     ]
    }
   ],
   "source": [
    "# Name of the directory containing the object detection module we're using\n",
    "# MODEL_NAME = 'faster_rcnn_inception_v2_coco_2018_01_28'\n",
    "\n",
    "# Grab path to current working directory\n",
    "# CWD_PATH = os.getcwd()\n",
    "CWD_PATH = \"D:\\\\課程\\\\北大課程\\\\人工神經網路與深度學習\\\\Project04\\\\models\\\\research\\\\object_detection\"\n",
    "\n",
    "# Path to frozen detection graph .pb file, which contains the model that is used\n",
    "# for object detection.\n",
    "PATH_TO_CKPT = os.path.join(CWD_PATH, \"inference_graph\", 'frozen_inference_graph.pb')\n",
    "\n",
    "# Path to label map file\n",
    "PATH_TO_LABELS = os.path.join(CWD_PATH, 'training', 'labelmap.pbtxt')\n",
    "\n",
    "# Path to image\n",
    "# PATH_TO_IMAGE = os.path.join(CWD_PATH, \"test_images\", IMAGE_NAME)\n",
    "PATH_TO_IMAGE = \"D:\\\\test_cdc\\\\test_images\"\n",
    "\n",
    "# Path to output dir\n",
    "PATH_TO_OUTPUT = \"D:\\\\課程\\\\北大課程\\\\人工神經網路與深度學習\\\\Project04\"\n",
    "\n",
    "# Number of classes the object detector can identify\n",
    "NUM_CLASSES = 13\n",
    "\n",
    "print(\"Cwd: {}\\n\".format(CWD_PATH))\n",
    "print(\"Checkpoint: \\n   {}\\n\".format(PATH_TO_CKPT))\n",
    "print(\"Label map: {}\\n\".format(PATH_TO_LABELS))\n",
    "print(\"Image dir: {}\".format(PATH_TO_IMAGE))"
   ]
  },
  {
   "cell_type": "code",
   "execution_count": 3,
   "metadata": {},
   "outputs": [],
   "source": [
    "def bulid_session(PATH_TO_LABELS, PATH_TO_CKPT):\n",
    "    # Load the label map.\n",
    "    # Here we use internal utility functions, but anything that returns a\n",
    "    # dictionary mapping integers to appropriate string labels would be fine\n",
    "    label_map = label_map_util.load_labelmap(PATH_TO_LABELS)\n",
    "    categories = label_map_util.convert_label_map_to_categories(label_map, max_num_classes=NUM_CLASSES, use_display_name=True)\n",
    "    category_index = label_map_util.create_category_index(categories)\n",
    "\n",
    "    # Load the Tensorflow model into memory.\n",
    "    detection_graph = tf.Graph()\n",
    "    with detection_graph.as_default():\n",
    "        od_graph_def = tf.GraphDef()\n",
    "        with tf.gfile.GFile(PATH_TO_CKPT, 'rb') as fid:\n",
    "            serialized_graph = fid.read()\n",
    "            od_graph_def.ParseFromString(serialized_graph)\n",
    "            tf.import_graph_def(od_graph_def, name='')\n",
    "\n",
    "        sess = tf.Session(graph=detection_graph)\n",
    "\n",
    "    # Define input and output tensors (i.e. data) for the object detection classifier\n",
    "\n",
    "    # Input tensor is the image\n",
    "    image_tensor = detection_graph.get_tensor_by_name('image_tensor:0')\n",
    "\n",
    "    # Output tensors are the detection boxes, scores, and classes\n",
    "    # Each box represents a part of the image where a particular object was detected\n",
    "    detection_boxes = detection_graph.get_tensor_by_name('detection_boxes:0')\n",
    "\n",
    "    # Each score represents level of confidence for each of the objects.\n",
    "    # The score is shown on the result image, together with the class label.\n",
    "    detection_scores = detection_graph.get_tensor_by_name('detection_scores:0')\n",
    "    detection_classes = detection_graph.get_tensor_by_name('detection_classes:0')\n",
    "\n",
    "    # Number of objects detected\n",
    "    num_detections = detection_graph.get_tensor_by_name('num_detections:0')\n",
    "\n",
    "    detections = [detection_boxes, \n",
    "                  detection_scores, \n",
    "                  detection_classes, \n",
    "                  num_detections]\n",
    "\n",
    "    return sess, detections, image_tensor"
   ]
  },
  {
   "cell_type": "code",
   "execution_count": 4,
   "metadata": {},
   "outputs": [],
   "source": [
    "def predict_single_image(imgPath, sess, detections, image_tensor):\n",
    "    # Load image using OpenCV and expand image dimensions to have shape: [1, None, None, 3]\n",
    "    # i.e. a single-column array, where each item in the column has the pixel RGB value\n",
    "    image = cv2.imread(imgPath)\n",
    "    height, width, channels = image.shape\n",
    "    image_expanded = np.expand_dims(image, axis=0)\n",
    "\n",
    "    # Perform the actual detection by running the model with the image as input\n",
    "    # The order of boxes is [ymin, xmin, ymax, xmax]\n",
    "    boxes, scores, classes, num = sess.run(detections, \n",
    "                                           feed_dict={image_tensor: image_expanded})\n",
    "\n",
    "    return width, height, np.squeeze(boxes), np.squeeze(classes), np.squeeze(scores)"
   ]
  },
  {
   "cell_type": "code",
   "execution_count": 5,
   "metadata": {},
   "outputs": [],
   "source": [
    "def display_prediction(imgPath, boxes, classes, scores):\n",
    "    # Draw the results of the detection (aka 'visulaize the results')\n",
    "    image = cv2.imread(imgPath)\n",
    "    vis_util.visualize_boxes_and_labels_on_image_array(\n",
    "        image,\n",
    "        boxes,\n",
    "        classes.astype(np.int32),\n",
    "        scores,\n",
    "        category_index,\n",
    "        use_normalized_coordinates=True,\n",
    "        line_thickness=8,\n",
    "        min_score_thresh=0.60)\n",
    "\n",
    "    ## Keep in mind that cv2.imshow() always comes with cv2.waitKey()\n",
    "    # All the results have been drawn on image. Now display the image.\n",
    "    cv2.imshow('Object detector', image)\n",
    "    print(color.RED + color.BOLD + \"Press any key to close the image\" + color.END + color.END)\n",
    "\n",
    "    # Press any key to close the image\n",
    "    cv2.waitKey(0)\n",
    "\n",
    "    # Clean up\n",
    "    cv2.destroyAllWindows()"
   ]
  },
  {
   "cell_type": "code",
   "execution_count": 6,
   "metadata": {},
   "outputs": [],
   "source": [
    "# img = \"20080123.jpg\"\n",
    "# imgPath = os.path.join(PATH_TO_IMAGE, img)\n",
    "\n",
    "# width, height, boxes, prob, labels = predict_single_image(imgPath)\n",
    "# display_prediction(imgPath, boxes, labels, prob)"
   ]
  },
  {
   "cell_type": "code",
   "execution_count": 7,
   "metadata": {
    "scrolled": true
   },
   "outputs": [
    {
     "name": "stdout",
     "output_type": "stream",
     "text": [
      "The boxes order: \u001b[91m\u001b[1m[ymin, xmin, ymax, xmax]\u001b[0m\u001b[0m\n"
     ]
    }
   ],
   "source": [
    "print(\"The boxes order: \" + color.RED + color.BOLD + \"[ymin, xmin, ymax, xmax]\" + color.END + color.END)\n",
    "\n",
    "def lines_for_single_image(img_width, img_height, boxes, labels, scores, imgName, default_rate=0.6):\n",
    "    # pick the object according to the probability\n",
    "    num_pick = sum(scores > default_rate)\n",
    "    \n",
    "    # follow the submission example order: x y w h\n",
    "    obj_left_border = boxes[:, 1] * img_width                        # top-left x value of the object\n",
    "    obj_top_border = boxes[:, 2] * img_height                        # top-left y value of the object\n",
    "    obj_width = (boxes[:, 3] - boxes[:, 1]) * img_width              # width of the object\n",
    "    obj_height = (boxes[:, 2] - boxes[:, 0]) * img_height            # height of the object\n",
    "\n",
    "    lines = \"\"\n",
    "    for i in range(num_pick):\n",
    "        line = imgName + \",{:0.0f},{},{},{},{},{:.9f}\".format(labels[i], \n",
    "                                                              obj_left_border[i], \n",
    "                                                              obj_top_border[i], \n",
    "                                                              obj_width[i], \n",
    "                                                              obj_height[i],\n",
    "                                                              scores[i])\n",
    "        lines += line + (\"\\n\" if i < (num_pick-1) else \"\")\n",
    "    return lines"
   ]
  },
  {
   "cell_type": "code",
   "execution_count": 8,
   "metadata": {
    "scrolled": false
   },
   "outputs": [],
   "source": [
    "def output_as_csv(PATH_TO_IMAGE, PATH_TO_OUTPUT, SESS, DETECTIONS, IMAGE_TENSOR):\n",
    "    LINES = \"\"\n",
    "    for img in os.listdir(PATH_TO_IMAGE):\n",
    "        if img.endswith(\".jpg\"):\n",
    "            imgPath = os.path.join(PATH_TO_IMAGE, img)\n",
    "            width, height, boxes, labels, prob = predict_single_image(imgPath, SESS, DETECTIONS, IMAGE_TENSOR)\n",
    "            lines = lines_for_single_image(width, height, boxes, labels, prob, img)\n",
    "            LINES += lines\n",
    "        LINES += (\"\\n\" if lines != \"\" else \"\")\n",
    "\n",
    "    with open(os.path.join(PATH_TO_OUTPUT, \"output.csv\"), \"w\") as csv_file:\n",
    "        print(\"image_filename,label_id,x,y,w,h,confidence\", file = csv_file)\n",
    "        print(LINES, file = csv_file)"
   ]
  },
  {
   "cell_type": "code",
   "execution_count": 9,
   "metadata": {},
   "outputs": [],
   "source": [
    "SESS, DETECTIONS, IMAGE_TENSOR = bulid_session(PATH_TO_LABELS, PATH_TO_CKPT)\n",
    "\n",
    "output_as_csv(PATH_TO_IMAGE, PATH_TO_OUTPUT, SESS, DETECTIONS, IMAGE_TENSOR)"
   ]
  }
 ],
 "metadata": {
  "kernelspec": {
   "display_name": "Python 3",
   "language": "python",
   "name": "python3"
  },
  "language_info": {
   "codemirror_mode": {
    "name": "ipython",
    "version": 3
   },
   "file_extension": ".py",
   "mimetype": "text/x-python",
   "name": "python",
   "nbconvert_exporter": "python",
   "pygments_lexer": "ipython3",
   "version": "3.6.9"
  }
 },
 "nbformat": 4,
 "nbformat_minor": 2
}
