{
 "cells": [
  {
   "cell_type": "code",
   "execution_count": 4,
   "metadata": {},
   "outputs": [],
   "source": [
    "# Keep in mind that if there are still files in image\\train or image\\test you are going to paste \n",
    "# delete them manually\n",
    "import os \n",
    "import shutil\n",
    "import random"
   ]
  },
  {
   "cell_type": "code",
   "execution_count": 5,
   "metadata": {},
   "outputs": [
    {
     "name": "stdout",
     "output_type": "stream",
     "text": [
      "Train path: D:\\DeepLearning\\Project04_ContainerDetection\\train\n",
      "Test path: D:\\DeepLearning\\Project04_ContainerDetection\\test\n",
      "-----\n",
      "Images path: D:\\DeepLearning\\Project04_ContainerDetection\\tutorial\\train_images\n",
      "Annotations path: D:\\DeepLearning\\Project04_ContainerDetection\\tutorial\\train_annotations\n"
     ]
    }
   ],
   "source": [
    "## Here are the directory you should decide yourself\n",
    "imgs_path = os.path.join(os.getcwd(), \"train_images\")\n",
    "annotations_path = os.path.join(os.getcwd(), \"train_annotations\")\n",
    "\n",
    "path_to_train = os.path.join(os.path.dirname(os.getcwd()), \"train\")\n",
    "path_to_valid = os.path.join(os.path.dirname(os.getcwd()), \"test\")   # validation directory is called test here\n",
    "\n",
    "print(\"Train path: {}\".format(path_to_train))\n",
    "print(\"Test path: {}\".format(path_to_valid))\n",
    "print(\"-----\")\n",
    "\n",
    "print(\"Images path: {}\".format(imgs_path))\n",
    "print(\"Annotations path: {}\".format(annotations_path))"
   ]
  },
  {
   "cell_type": "code",
   "execution_count": 3,
   "metadata": {},
   "outputs": [],
   "source": [
    "def split_train_valid_into_diff_folders(valid_ratio = .2, seed = \"Oh My God\"):\n",
    "    imgs = os.listdir(imgs_path)\n",
    "    annotations = os.listdir(annotations_path)\n",
    "\n",
    "    total_imgs = len(imgs)\n",
    "    valid_num = int(total_imgs * valid_ratio)\n",
    "\n",
    "    if seed is not None:\n",
    "        random.seed(seed)\n",
    "    idx_for_valid = random.sample(range(total_imgs), valid_num)\n",
    "\n",
    "    idx = 0\n",
    "    for img, annotation in zip(imgs, annotations):\n",
    "        img_path = os.path.join(imgs_path, img)                                           # path for image\n",
    "        annotation_path = os.path.join(annotations_path, annotation)                      # path for annotation\n",
    "\n",
    "        if idx in idx_for_valid:\n",
    "            shutil.copyfile(img_path, os.path.join(path_to_valid, img))                   # copy images to validation\n",
    "            shutil.copyfile(annotation_path, os.path.join(path_to_valid, annotation))     # copy annotations to validation\n",
    "        else:\n",
    "            shutil.copyfile(img_path, os.path.join(path_to_train, img))                   # copy images to train\n",
    "            shutil.copyfile(annotation_path, os.path.join(path_to_train, annotation))     # copy annotations to train\n",
    "        idx += 1"
   ]
  },
  {
   "cell_type": "code",
   "execution_count": 4,
   "metadata": {},
   "outputs": [],
   "source": [
    "split_train_valid_into_diff_folders()"
   ]
  }
 ],
 "metadata": {
  "kernelspec": {
   "display_name": "Python 3",
   "language": "python",
   "name": "python3"
  },
  "language_info": {
   "codemirror_mode": {
    "name": "ipython",
    "version": 3
   },
   "file_extension": ".py",
   "mimetype": "text/x-python",
   "name": "python",
   "nbconvert_exporter": "python",
   "pygments_lexer": "ipython3",
   "version": "3.6.9"
  }
 },
 "nbformat": 4,
 "nbformat_minor": 2
}
