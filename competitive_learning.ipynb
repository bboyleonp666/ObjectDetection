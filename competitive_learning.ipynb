{
 "cells": [
  {
   "cell_type": "code",
   "execution_count": 1,
   "metadata": {},
   "outputs": [],
   "source": [
    "import matplotlib.pyplot as plt\n",
    "import pandas as pd\n",
    "import numpy as np\n",
    "\n",
    "# color for print function\n",
    "class color:\n",
    "    PURPLE = '\\033[95m'\n",
    "    CYAN = '\\033[96m'\n",
    "    DARKCYAN = '\\033[36m'\n",
    "    BLUE = '\\033[94m'\n",
    "    GREEN = '\\033[92m'\n",
    "    YELLOW = '\\033[93m'\n",
    "    RED = '\\033[91m'\n",
    "    BOLD = '\\033[1m'\n",
    "    UNDERLINE = '\\033[4m'\n",
    "    END = '\\033[0m'"
   ]
  },
  {
   "cell_type": "code",
   "execution_count": 2,
   "metadata": {
    "scrolled": false
   },
   "outputs": [
    {
     "data": {
      "text/html": [
       "<div>\n",
       "<style scoped>\n",
       "    .dataframe tbody tr th:only-of-type {\n",
       "        vertical-align: middle;\n",
       "    }\n",
       "\n",
       "    .dataframe tbody tr th {\n",
       "        vertical-align: top;\n",
       "    }\n",
       "\n",
       "    .dataframe thead th {\n",
       "        text-align: right;\n",
       "    }\n",
       "</style>\n",
       "<table border=\"1\" class=\"dataframe\">\n",
       "  <thead>\n",
       "    <tr style=\"text-align: right;\">\n",
       "      <th></th>\n",
       "      <th>sepal.length</th>\n",
       "      <th>sepal.width</th>\n",
       "      <th>petal.length</th>\n",
       "      <th>petal.width</th>\n",
       "    </tr>\n",
       "  </thead>\n",
       "  <tbody>\n",
       "    <tr>\n",
       "      <td>0</td>\n",
       "      <td>5.1</td>\n",
       "      <td>3.5</td>\n",
       "      <td>1.4</td>\n",
       "      <td>0.2</td>\n",
       "    </tr>\n",
       "    <tr>\n",
       "      <td>27</td>\n",
       "      <td>5.2</td>\n",
       "      <td>3.5</td>\n",
       "      <td>1.5</td>\n",
       "      <td>0.2</td>\n",
       "    </tr>\n",
       "    <tr>\n",
       "      <td>28</td>\n",
       "      <td>5.2</td>\n",
       "      <td>3.4</td>\n",
       "      <td>1.4</td>\n",
       "      <td>0.2</td>\n",
       "    </tr>\n",
       "    <tr>\n",
       "      <td>29</td>\n",
       "      <td>4.7</td>\n",
       "      <td>3.2</td>\n",
       "      <td>1.6</td>\n",
       "      <td>0.2</td>\n",
       "    </tr>\n",
       "    <tr>\n",
       "      <td>30</td>\n",
       "      <td>4.8</td>\n",
       "      <td>3.1</td>\n",
       "      <td>1.6</td>\n",
       "      <td>0.2</td>\n",
       "    </tr>\n",
       "  </tbody>\n",
       "</table>\n",
       "</div>"
      ],
      "text/plain": [
       "    sepal.length  sepal.width  petal.length  petal.width\n",
       "0            5.1          3.5           1.4          0.2\n",
       "27           5.2          3.5           1.5          0.2\n",
       "28           5.2          3.4           1.4          0.2\n",
       "29           4.7          3.2           1.6          0.2\n",
       "30           4.8          3.1           1.6          0.2"
      ]
     },
     "execution_count": 2,
     "metadata": {},
     "output_type": "execute_result"
    }
   ],
   "source": [
    "iris = pd.read_csv('iris.csv').sort_values(\"variety\", ascending=True) # read iris data and sort by \"variety\"\n",
    "variety = iris.pop('variety')                                         # pop out the \"variety\"\n",
    "iris.head()"
   ]
  },
  {
   "cell_type": "code",
   "execution_count": 3,
   "metadata": {},
   "outputs": [
    {
     "name": "stdout",
     "output_type": "stream",
     "text": [
      "The species of iris are: ['Setosa', 'Virginica', 'Versicolor']\n",
      "The numbers of that species are: [50, 50, 50]\n"
     ]
    }
   ],
   "source": [
    "variety_count = variety.value_counts()\n",
    "variety_dict = variety_count.keys()\n",
    "\n",
    "print(\"The species of iris are: {}\".format(list(variety_dict)))\n",
    "print(\"The numbers of that species are: {}\".format(list(variety_count)))"
   ]
  },
  {
   "cell_type": "code",
   "execution_count": 4,
   "metadata": {
    "scrolled": false
   },
   "outputs": [],
   "source": [
    "### K Fold algorithm\n",
    "def K_Fold(data, label_count, K = 5):\n",
    "    # get k fold index for data rows\n",
    "    Kfold_idx = np.array([np.random.choice(count, count, replace=False) for count in label_count])\n",
    "\n",
    "    # default setting for K Fold\n",
    "    valid_size = Kfold_idx.shape[1] // K\n",
    "    Kfold_idx_reshaped = Kfold_idx.reshape(len(label_count), K, valid_size)\n",
    "\n",
    "    # K Fold loop\n",
    "    valid_list = []\n",
    "    train_list = []\n",
    "    for k in range(K):\n",
    "        print(\"Under Fold: {}\".format(k + 1))\n",
    "        print(\"--------------\")\n",
    "        train = np.empty((0, data.shape[1])) # np.empty will create size of array contains unknown numbers\n",
    "        for i in range(K):\n",
    "            print(\"  iter = {}\".format(i))\n",
    "\n",
    "            if k == i:\n",
    "                for fold in Kfold_idx_reshaped[:, i, :]:\n",
    "                    valid = np.array(data.iloc[fold, ])\n",
    "                    \n",
    "            else:\n",
    "                for idx, fold in enumerate(Kfold_idx_reshaped[:, i, :]):\n",
    "                    tmp_train = np.array(data.iloc[fold, ])\n",
    "                    train = np.concatenate([train, tmp_train])\n",
    "\n",
    "        valid_list.append(valid)  # shape (5, 10, 4)\n",
    "        train_list.append(train)  # shape (5, 120, 4)\n",
    "        print()\n",
    "    \n",
    "    \n",
    "    return np.array(train_list), np.array(valid_list)"
   ]
  },
  {
   "cell_type": "code",
   "execution_count": 5,
   "metadata": {},
   "outputs": [],
   "source": [
    "# activation function to adjust the delta weight\n",
    "def activation_MinusBack(input_array):\n",
    "    size = input_array.size\n",
    "    minus_back = 1 / size\n",
    "    \n",
    "    output_array = input_array/input_array.sum() - minus_back\n",
    "    return output_array\n",
    "\n",
    "def activation_AdjustMean(input_array):\n",
    "    output_array = input_array - input_array.mean()\n",
    "    return output_array"
   ]
  },
  {
   "cell_type": "code",
   "execution_count": 6,
   "metadata": {
    "scrolled": true
   },
   "outputs": [],
   "source": [
    "## Main function\n",
    "def main(KFOLD_DATA, LABEL_COUNTS, EPOCH=5000, ETA=.00000001):\n",
    "    WEIGHTS = []\n",
    "    ACCURACY = []\n",
    "    for kfold in range(len(KFOLD_DATA)):\n",
    "        print(\"Fold {}:\".format(kfold + 1))\n",
    "        print(\"----------------------\")\n",
    "        weights, accuracy = CompetitiveLearning(KFOLD_DATA[kfold, :, :], LABEL_COUNTS, EPOCH, ETA)\n",
    "        WEIGHTS.append(weights)\n",
    "        ACCURACY.append(accuracy)\n",
    "        print()\n",
    "    \n",
    "    return np.array(WEIGHTS), np.array(ACCURACY)"
   ]
  },
  {
   "cell_type": "code",
   "execution_count": 14,
   "metadata": {},
   "outputs": [],
   "source": [
    "## Competitive Learning Process\n",
    "def CompetitiveLearning(data, label_count, EPOCH=5000, eta=.0001):\n",
    "    # get default info\n",
    "    outputSize = len(label_count)\n",
    "    data_normalized = data/data.sum(axis=0)\n",
    "    labels = np.repeat(range(outputSize), label_count)\n",
    "\n",
    "    # shuffle the data no matter shuffled or not\n",
    "    random_idx = np.random.choice(range(labels.size), size=labels.size, replace=False)\n",
    "    data_shuffled = data_normalized[random_idx, :]\n",
    "    labels_shuffled = labels[random_idx]\n",
    "\n",
    "    # random weights from normal distribution\n",
    "    random_weights = np.random.normal(0, 1, size=(data_shuffled.shape[1], outputSize))\n",
    "\n",
    "    # adjust the weights so that the sum of them is equal to 1\n",
    "    weights  = random_weights / random_weights.sum()\n",
    "    \n",
    "    COUNTS = []\n",
    "    for epoch in range(EPOCH):\n",
    "        for row in data_shuffled:\n",
    "            ## compute the winner\n",
    "            output = np.dot(row, weights)                                       # dot product of data and weights\n",
    "            winner = np.argmax(output)                                          # indicate the winner\n",
    "\n",
    "            ## compute the delta weight\n",
    "            delta_weight = np.zeros(weights.shape)                              # create 2d zeros array for delta weight\n",
    "            delta_weight_for_winner = eta * (row/row.size - weights[:, winner]) # compute the delta weight for winner\n",
    "            delta_weight_adj = activation_AdjustMean(delta_weight_for_winner)   # adjust the delta weight so that the sum is 0\n",
    "            delta_weight[:, winner] = delta_weight_adj                          # put the delta weight into 2d array\n",
    "\n",
    "            ## update weight\n",
    "            weights += delta_weight\n",
    "        \n",
    "        ## Compute accuracy for each epoch\n",
    "        output = np.dot(data_shuffled, weights)\n",
    "        labels_pred = np.argmax(output, axis=1)\n",
    "        counts = pd.value_counts(labels_pred)\n",
    "        if (epoch+1) % 1000 == 0:\n",
    "            print_out = \"\"\n",
    "            for count in counts:\n",
    "                print_out = print_out + \" \" + str(count)\n",
    "            print(\"Epoch = {}  Label Counts:{}\".format(epoch+1, print_out))\n",
    "            \n",
    "        COUNTS.append(counts)\n",
    "        \n",
    "    return weights, np.array(COUNTS)"
   ]
  },
  {
   "cell_type": "code",
   "execution_count": 7,
   "metadata": {
    "scrolled": false
   },
   "outputs": [],
   "source": [
    "## Accuracy Plot\n",
    "# def AccuracyPlot(accuracy):\n",
    "#     plt.figure(figsize=(8, 8))                                     # set figure default size\n",
    "#     plt.title(\"Training Accuracy\")           # set figure title\n",
    "\n",
    "#     axes = plt.gca()                                               # patch the plt.gca setting to axes\n",
    "#     axes.set_ylim([.25, .4])                                        # set y axis range\n",
    "#     for i, acc in enumerate(accuracy):\n",
    "#         line_labels = \"Fold {}\".format(i + 1)                      # set the labels of lines for legend\n",
    "#         plt.plot(range(len(acc)), acc, label=line_labels)          # plot the accuracy lines\n",
    "\n",
    "#     plt.legend(loc=\"upper right\")                                  # attach legend\n",
    "#     plt.show()                                                     # show plot"
   ]
  },
  {
   "cell_type": "code",
   "execution_count": 8,
   "metadata": {
    "scrolled": false
   },
   "outputs": [
    {
     "name": "stdout",
     "output_type": "stream",
     "text": [
      "Under Fold: 1\n",
      "--------------\n",
      "  iter = 0\n",
      "  iter = 1\n",
      "  iter = 2\n",
      "  iter = 3\n",
      "  iter = 4\n",
      "\n",
      "Under Fold: 2\n",
      "--------------\n",
      "  iter = 0\n",
      "  iter = 1\n",
      "  iter = 2\n",
      "  iter = 3\n",
      "  iter = 4\n",
      "\n",
      "Under Fold: 3\n",
      "--------------\n",
      "  iter = 0\n",
      "  iter = 1\n",
      "  iter = 2\n",
      "  iter = 3\n",
      "  iter = 4\n",
      "\n",
      "Under Fold: 4\n",
      "--------------\n",
      "  iter = 0\n",
      "  iter = 1\n",
      "  iter = 2\n",
      "  iter = 3\n",
      "  iter = 4\n",
      "\n",
      "Under Fold: 5\n",
      "--------------\n",
      "  iter = 0\n",
      "  iter = 1\n",
      "  iter = 2\n",
      "  iter = 3\n",
      "  iter = 4\n",
      "\n",
      "Training Shape: (5, 120, 4)\n",
      "Validation Shape: (5, 10, 4)\n"
     ]
    }
   ],
   "source": [
    "train, valid = K_Fold(iris, variety_count, K = 5)\n",
    "print(\"Training Shape: {}\".format(train.shape))\n",
    "print(\"Validation Shape: {}\".format(valid.shape))"
   ]
  },
  {
   "cell_type": "code",
   "execution_count": 16,
   "metadata": {
    "scrolled": false
   },
   "outputs": [
    {
     "name": "stdout",
     "output_type": "stream",
     "text": [
      "Fold 1:\n",
      "----------------------\n",
      "Epoch = 1000  Label Counts: 81 39\n",
      "Epoch = 2000  Label Counts: 81 39\n",
      "Epoch = 3000  Label Counts: 81 39\n",
      "Epoch = 4000  Label Counts: 81 39\n",
      "Epoch = 5000  Label Counts: 81 39\n",
      "\n",
      "Fold 2:\n",
      "----------------------\n",
      "Epoch = 1000  Label Counts: 120\n",
      "Epoch = 2000  Label Counts: 120\n",
      "Epoch = 3000  Label Counts: 120\n",
      "Epoch = 4000  Label Counts: 120\n",
      "Epoch = 5000  Label Counts: 120\n",
      "\n",
      "Fold 3:\n",
      "----------------------\n",
      "Epoch = 1000  Label Counts: 120\n",
      "Epoch = 2000  Label Counts: 120\n",
      "Epoch = 3000  Label Counts: 120\n",
      "Epoch = 4000  Label Counts: 120\n",
      "Epoch = 5000  Label Counts: 120\n",
      "\n",
      "Fold 4:\n",
      "----------------------\n",
      "Epoch = 1000  Label Counts: 120\n",
      "Epoch = 2000  Label Counts: 120\n",
      "Epoch = 3000  Label Counts: 120\n",
      "Epoch = 4000  Label Counts: 120\n",
      "Epoch = 5000  Label Counts: 120\n",
      "\n",
      "Fold 5:\n",
      "----------------------\n",
      "Epoch = 1000  Label Counts: 116 4\n",
      "Epoch = 2000  Label Counts: 116 4\n",
      "Epoch = 3000  Label Counts: 116 4\n",
      "Epoch = 4000  Label Counts: 116 4\n",
      "Epoch = 5000  Label Counts: 116 4\n",
      "\n"
     ]
    },
    {
     "ename": "ValueError",
     "evalue": "could not broadcast input array from shape (5000,2) into shape (5000)",
     "output_type": "error",
     "traceback": [
      "\u001b[1;31m---------------------------------------------------------------------------\u001b[0m",
      "\u001b[1;31mValueError\u001b[0m                                Traceback (most recent call last)",
      "\u001b[1;32m<ipython-input-16-0f89dc12f92b>\u001b[0m in \u001b[0;36m<module>\u001b[1;34m\u001b[0m\n\u001b[0;32m      1\u001b[0m \u001b[0mlabel_count\u001b[0m \u001b[1;33m=\u001b[0m \u001b[0mvariety_count\u001b[0m \u001b[1;33m//\u001b[0m \u001b[0mlen\u001b[0m\u001b[1;33m(\u001b[0m\u001b[0mtrain\u001b[0m\u001b[1;33m)\u001b[0m \u001b[1;33m*\u001b[0m \u001b[1;33m(\u001b[0m\u001b[0mlen\u001b[0m\u001b[1;33m(\u001b[0m\u001b[0mtrain\u001b[0m\u001b[1;33m)\u001b[0m \u001b[1;33m-\u001b[0m \u001b[1;36m1\u001b[0m\u001b[1;33m)\u001b[0m\u001b[1;33m\u001b[0m\u001b[1;33m\u001b[0m\u001b[0m\n\u001b[1;32m----> 2\u001b[1;33m \u001b[0mweights\u001b[0m\u001b[1;33m,\u001b[0m \u001b[0maccuracy\u001b[0m \u001b[1;33m=\u001b[0m \u001b[0mmain\u001b[0m\u001b[1;33m(\u001b[0m\u001b[0mtrain\u001b[0m\u001b[1;33m,\u001b[0m \u001b[0mlabel_count\u001b[0m\u001b[1;33m)\u001b[0m\u001b[1;33m\u001b[0m\u001b[1;33m\u001b[0m\u001b[0m\n\u001b[0m",
      "\u001b[1;32m<ipython-input-6-7cba3db49360>\u001b[0m in \u001b[0;36mmain\u001b[1;34m(KFOLD_DATA, LABEL_COUNTS, EPOCH, ETA)\u001b[0m\n\u001b[0;32m     11\u001b[0m         \u001b[0mprint\u001b[0m\u001b[1;33m(\u001b[0m\u001b[1;33m)\u001b[0m\u001b[1;33m\u001b[0m\u001b[1;33m\u001b[0m\u001b[0m\n\u001b[0;32m     12\u001b[0m \u001b[1;33m\u001b[0m\u001b[0m\n\u001b[1;32m---> 13\u001b[1;33m     \u001b[1;32mreturn\u001b[0m \u001b[0mnp\u001b[0m\u001b[1;33m.\u001b[0m\u001b[0marray\u001b[0m\u001b[1;33m(\u001b[0m\u001b[0mWEIGHTS\u001b[0m\u001b[1;33m)\u001b[0m\u001b[1;33m,\u001b[0m \u001b[0mnp\u001b[0m\u001b[1;33m.\u001b[0m\u001b[0marray\u001b[0m\u001b[1;33m(\u001b[0m\u001b[0mACCURACY\u001b[0m\u001b[1;33m)\u001b[0m\u001b[1;33m\u001b[0m\u001b[1;33m\u001b[0m\u001b[0m\n\u001b[0m",
      "\u001b[1;31mValueError\u001b[0m: could not broadcast input array from shape (5000,2) into shape (5000)"
     ]
    }
   ],
   "source": [
    "label_count = variety_count // len(train) * (len(train) - 1)\n",
    "weights, accuracy = main(train, label_count)"
   ]
  }
 ],
 "metadata": {
  "kernelspec": {
   "display_name": "Python 3",
   "language": "python",
   "name": "python3"
  },
  "language_info": {
   "codemirror_mode": {
    "name": "ipython",
    "version": 3
   },
   "file_extension": ".py",
   "mimetype": "text/x-python",
   "name": "python",
   "nbconvert_exporter": "python",
   "pygments_lexer": "ipython3",
   "version": "3.6.9"
  }
 },
 "nbformat": 4,
 "nbformat_minor": 2
}
